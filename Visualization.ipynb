{
 "cells": [
  {
   "cell_type": "markdown",
   "id": "85338b94",
   "metadata": {},
   "source": [
    "# Визуализация работы программы"
   ]
  },
  {
   "cell_type": "code",
   "execution_count": 1,
   "id": "f003814f",
   "metadata": {},
   "outputs": [],
   "source": [
    "# решение\n",
    "from solution.task1 import Nash_Equilibrium \n",
    "# тестовые матрицы\n",
    "import solution.matrices as data\n",
    "# визуализация\n",
    "%matplotlib inline \n",
    "import matplotlib.pyplot as plt"
   ]
  },
  {
   "cell_type": "markdown",
   "id": "c3c75d69",
   "metadata": {},
   "source": [
    " Визуализация выделена в эту функцию"
   ]
  },
  {
   "cell_type": "code",
   "execution_count": 2,
   "id": "80521d22",
   "metadata": {},
   "outputs": [],
   "source": [
    "def plotSpectre(data, str1 = \"Спектр оптимальной стратегии 1го игрока\", str2 = \"Спектр оптимальной стратегии 2го игрока\"):\n",
    "    plt.figure(figsize = (len(data[0]) * 4, 4))\n",
    "    \n",
    "    plt.subplot(121)\n",
    "    plt.title(str1)\n",
    "    plt.xticks(range(1, len(data[0]) + 1))\n",
    "    plt.bar(range(1, len(data[0]) + 1), data[0], 0.1)\n",
    "    \n",
    "    plt.subplot(122)\n",
    "    plt.title(str2)\n",
    "    plt.xticks(range(1, len(data[1]) + 1))\n",
    "    plt.bar(range(1, len(data[1]) + 1), data[1], 0.1)\n",
    "\n",
    "    plt.show()\n",
    "    print(\"цена игры: \", data[2])"
   ]
  },
  {
   "cell_type": "markdown",
   "id": "f5226de3",
   "metadata": {},
   "source": [
    "### Равновесие Нэша в чистых стратегиях"
   ]
  },
  {
   "cell_type": "markdown",
   "id": "861e0361",
   "metadata": {},
   "source": [
    "Вид матрицы:"
   ]
  },
  {
   "cell_type": "code",
   "execution_count": 3,
   "id": "46d0a124",
   "metadata": {},
   "outputs": [
    {
     "name": "stdout",
     "output_type": "stream",
     "text": [
      "[[1 2 3]\n",
      " [5 4 6]\n",
      " [8 4 3]]\n"
     ]
    }
   ],
   "source": [
    "print(data.matrix1)"
   ]
  },
  {
   "cell_type": "markdown",
   "id": "f8b3c5e5",
   "metadata": {},
   "source": [
    "Очевидно, равновесие Нэша достигается на седловой точке (здесь - средний элемент матрицы)"
   ]
  },
  {
   "cell_type": "code",
   "execution_count": 4,
   "id": "af82812c",
   "metadata": {},
   "outputs": [
    {
     "data": {
      "image/png": "[encoded data removed]",
      "text/plain": [
       "<Figure size 864x288 with 2 Axes>"
      ]
     },
     "metadata": {
      "needs_background": "light"
     },
     "output_type": "display_data"
    },
    {
     "name": "stdout",
     "output_type": "stream",
     "text": [
      "цена игры:  4.0\n"
     ]
    }
   ],
   "source": [
    "ans = Nash_Equilibrium(data.matrix1)\n",
    "plotSpectre(ans)"
   ]
  },
  {
   "cell_type": "markdown",
   "id": "bbb7e01e",
   "metadata": {},
   "source": [
    "### Неполная оптимальная стратегия"
   ]
  },
  {
   "cell_type": "code",
   "execution_count": 5,
   "id": "642efc47",
   "metadata": {},
   "outputs": [
    {
     "name": "stdout",
     "output_type": "stream",
     "text": [
      "[[0 0 0]\n",
      " [2 5 0]\n",
      " [0 2 5]]\n"
     ]
    }
   ],
   "source": [
    "print(data.matrix2)"
   ]
  },
  {
   "cell_type": "code",
   "execution_count": 6,
   "id": "8674e1f8",
   "metadata": {},
   "outputs": [
    {
     "data": {
      "image/png": "[encoded data removed]",
      "text/plain": [
       "<Figure size 864x288 with 2 Axes>"
      ]
     },
     "metadata": {
      "needs_background": "light"
     },
     "output_type": "display_data"
    },
    {
     "name": "stdout",
     "output_type": "stream",
     "text": [
      "цена игры:  1.4285714285714288\n"
     ]
    }
   ],
   "source": [
    "ans = Nash_Equilibrium(data.matrix2)\n",
    "plotSpectre(ans)"
   ]
  },
  {
   "cell_type": "markdown",
   "id": "16a465c5",
   "metadata": {},
   "source": [
    "так как есть чистые  стратеги которые не выбираются, то это не полная оптимальная стратегия"
   ]
  },
  {
   "cell_type": "markdown",
   "id": "9b990642",
   "metadata": {},
   "source": [
    "### Полная оптимальная стратегия"
   ]
  },
  {
   "cell_type": "markdown",
   "id": "f3af0339",
   "metadata": {},
   "source": [
    "Вид матрицы:"
   ]
  },
  {
   "cell_type": "code",
   "execution_count": 7,
   "id": "dee375b7",
   "metadata": {},
   "outputs": [
    {
     "name": "stdout",
     "output_type": "stream",
     "text": [
      "[[ 0  1 -1]\n",
      " [-1  0  1]\n",
      " [ 1 -1  0]]\n"
     ]
    }
   ],
   "source": [
    "print(data.matrix3)"
   ]
  },
  {
   "cell_type": "code",
   "execution_count": 8,
   "id": "d818cb1b",
   "metadata": {},
   "outputs": [
    {
     "data": {
      "image/png": "[encoded data removed]",
      "text/plain": [
       "<Figure size 864x288 with 2 Axes>"
      ]
     },
     "metadata": {
      "needs_background": "light"
     },
     "output_type": "display_data"
    },
    {
     "name": "stdout",
     "output_type": "stream",
     "text": [
      "цена игры:  0.0\n"
     ]
    }
   ],
   "source": [
    "ans = Nash_Equilibrium(data.matrix3)\n",
    "plotSpectre(ans)"
   ]
  },
  {
   "cell_type": "markdown",
   "id": "75c5f7c8",
   "metadata": {},
   "source": [
    "Все чистые стратегии используются"
   ]
  },
  {
   "cell_type": "markdown",
   "id": "c456d46b",
   "metadata": {},
   "source": [
    "### Тест из примера"
   ]
  },
  {
   "cell_type": "code",
   "execution_count": 9,
   "id": "db93eedb",
   "metadata": {},
   "outputs": [
    {
     "data": {
      "image/png": "[encoded data removed]",
      "text/plain": [
       "<Figure size 1728x288 with 2 Axes>"
      ]
     },
     "metadata": {
      "needs_background": "light"
     },
     "output_type": "display_data"
    },
    {
     "name": "stdout",
     "output_type": "stream",
     "text": [
      "цена игры:  4.870967741935483\n"
     ]
    }
   ],
   "source": [
    "\n",
    "s = \\\n",
    "    [[ 4,  0,  6,  2,  2,  1],\n",
    "     [ 3,  8,  4, 10,  4,  4],\n",
    "     [ 1,  2,  6,  5,  0,  0],\n",
    "     [ 6,  6,  4,  4, 10,  3],\n",
    "     [10,  4,  6,  4,  0,  9],\n",
    "     [10,  7,  0,  7,  9,  8]]\n",
    "ans = Nash_Equilibrium(s)\n",
    "plotSpectre(ans)"
   ]
  }
 ],
 "metadata": {
  "kernelspec": {
   "display_name": "Python 3 (ipykernel)",
   "language": "python",
   "name": "python3"
  },
  "language_info": {
   "codemirror_mode": {
    "name": "ipython",
    "version": 3
   },
   "file_extension": ".py",
   "mimetype": "text/x-python",
   "name": "python",
   "nbconvert_exporter": "python",
   "pygments_lexer": "ipython3",
   "version": "3.8.2"
  }
 },
 "nbformat": 4,
 "nbformat_minor": 5
}
